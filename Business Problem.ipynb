{
 "cells": [
  {
   "cell_type": "markdown",
   "metadata": {},
   "source": [
    "# Best place to live in Oporto\n",
    "### (Venue analysis in different neighbourhoods around Oporto cities)\n",
    "\n",
    "João Martins | __Project Capstone Assignment 3 - Week 1__\n",
    "\n",
    "Date: 15/MAR/2021"
   ]
  },
  {
   "cell_type": "markdown",
   "metadata": {},
   "source": [
    "#### __Introduction:__\n"
   ]
  },
  {
   "cell_type": "markdown",
   "metadata": {},
   "source": [
    "This study will support any foreign student or portuguese citizen that want to live in Porto to find the best place for his accommodation in the city/neighbourhood within the Porto district, located in the North of Portugal.\n",
    "\n",
    "The independent variables that can affect the decision of a person to chose one place on another are the venues categories around the city centre on average 1.000m\n",
    "\n"
   ]
  },
  {
   "cell_type": "markdown",
   "metadata": {},
   "source": [
    "#### __Business Problem__"
   ]
  },
  {
   "cell_type": "markdown",
   "metadata": {},
   "source": [
    "__Question:__ Where I should select my accommodation if I have to move to Porto for working or studying?"
   ]
  },
  {
   "cell_type": "markdown",
   "metadata": {},
   "source": [
    "#### __Data collection, data cleaning, data preparation and data preparation__"
   ]
  },
  {
   "cell_type": "markdown",
   "metadata": {},
   "source": [
    "The data from the all country (cities, districts, population and geolocation) will be collected from the Governement open source website. Grouping the cities by districts we can find the cities and geolocation for the 27 cities within the Porto district.\n",
    "\n",
    "We need to check if there is any null value, drop columns with information not clear or not necessary. Check the type of the values (dtype), dimension (shape) of the dataframe and count the amount of cities within each district.\n",
    "\n",
    "From the foursquare API we can extract the top 100 venues within the Porto district in a radius of 1.000meters then we can group the venues by neighbourhoods.\n",
    "\n",
    "After we put the top venues in the graph we can cluster the locations according the most common venue category within the neighbourhood.\n",
    "\n",
    "Analysing the clusters segments we can decide which is the best location to live within Porto district acording to the clusters segment in terms of most 50th common venues. "
   ]
  }
 ],
 "metadata": {
  "kernelspec": {
   "display_name": "Python 3",
   "language": "python",
   "name": "python3"
  },
  "language_info": {
   "codemirror_mode": {
    "name": "ipython",
    "version": 3
   },
   "file_extension": ".py",
   "mimetype": "text/x-python",
   "name": "python",
   "nbconvert_exporter": "python",
   "pygments_lexer": "ipython3",
   "version": "3.7.6"
  }
 },
 "nbformat": 4,
 "nbformat_minor": 4
}
